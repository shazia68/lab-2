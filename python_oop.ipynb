{
  "nbformat": 4,
  "nbformat_minor": 0,
  "metadata": {
    "colab": {
      "provenance": [],
      "include_colab_link": true
    },
    "kernelspec": {
      "name": "python3",
      "display_name": "Python 3"
    },
    "language_info": {
      "name": "python"
    }
  },
  "cells": [
    {
      "cell_type": "markdown",
      "metadata": {
        "id": "view-in-github",
        "colab_type": "text"
      },
      "source": [
        "<a href=\"https://colab.research.google.com/github/shazia68/lab-2/blob/abcd/python_oop.ipynb\" target=\"_parent\"><img src=\"https://colab.research.google.com/assets/colab-badge.svg\" alt=\"Open In Colab\"/></a>"
      ]
    },
    {
      "cell_type": "markdown",
      "source": [
        "# **Object Oriented Programing in Python**\n",
        "1. Class and Object\n",
        "2. Inheritance\n",
        "3. Polymorphism\n",
        "4. Encapsulation\n",
        "5. Abstraction\n",
        "6. Method Overriding\n",
        "7. Class and Instance Variables\n",
        "8. Static Methods"
      ],
      "metadata": {
        "id": "BTIqq1eDJ8dc"
      }
    },
    {
      "cell_type": "markdown",
      "source": [
        "**Class and Object**"
      ],
      "metadata": {
        "id": "J0k-8RHsKoRT"
      }
    },
    {
      "cell_type": "code",
      "execution_count": 1,
      "metadata": {
        "id": "JcCIzDUzJzPv",
        "colab": {
          "base_uri": "https://localhost:8080/"
        },
        "outputId": "0c121811-4c6f-4c9f-e040-7ff56a467bd4"
      },
      "outputs": [
        {
          "output_type": "stream",
          "name": "stdout",
          "text": [
            "Deposited 500 into account 12345. New balance: 1500\n",
            "Withdrew 200 from account 54321. New balance: 300\n",
            "Withdrew 1500 from account 12345. New balance: 0\n"
          ]
        }
      ],
      "source": [
        "class BankAccount:\n",
        "    def __init__(self, account_number, balance):\n",
        "        self.account_number = account_number\n",
        "        self.balance = balance\n",
        "\n",
        "    def deposit(self, amount):\n",
        "        self.balance += amount\n",
        "        print(f\"Deposited {amount} into account {self.account_number}. New balance: {self.balance}\")\n",
        "\n",
        "    def withdraw(self, amount):\n",
        "        if self.balance >= amount:\n",
        "            self.balance -= amount\n",
        "            print(f\"Withdrew {amount} from account {self.account_number}. New balance: {self.balance}\")\n",
        "        else:\n",
        "            print(\"Insufficient funds!\")\n",
        "\n",
        "account1 = BankAccount(\"12345\", 1000)\n",
        "account2 = BankAccount(\"54321\", 500)\n",
        "\n",
        "account1.deposit(500)\n",
        "account2.withdraw(200)\n",
        "account1.withdraw(1500)"
      ]
    },
    {
      "cell_type": "code",
      "source": [
        "class Calculator:\n",
        "    def __init__(self):\n",
        "        pass\n",
        "\n",
        "    def add(self, a, b):\n",
        "        return a + b\n",
        "\n",
        "    def subtract(self, a, b):\n",
        "        return a - b\n",
        "\n",
        "    def multiply(self, a, b):\n",
        "        return a * b\n",
        "\n",
        "    def divide(self, a, b):\n",
        "        if b != 0:\n",
        "            return a / b\n",
        "        else:\n",
        "            return \"Cannot divide by zero\"\n",
        "\n",
        "calc = Calculator()\n",
        "\n",
        "print(\"Addition:\", calc.add(5, 3))\n",
        "print(\"Subtraction:\", calc.subtract(10, 4))\n",
        "print(\"Multiplication:\", calc.multiply(7, 2))\n",
        "print(\"Division:\", calc.divide(10, 2))\n",
        "print(\"Division by zero:\", calc.divide(8, 0))"
      ],
      "metadata": {
        "id": "1yRP2MTKL5z-",
        "colab": {
          "base_uri": "https://localhost:8080/"
        },
        "outputId": "1d710ebb-7701-4e5a-bd69-ad4fc2f2b387"
      },
      "execution_count": 2,
      "outputs": [
        {
          "output_type": "stream",
          "name": "stdout",
          "text": [
            "Addition: 8\n",
            "Subtraction: 6\n",
            "Multiplication: 14\n",
            "Division: 5.0\n",
            "Division by zero: Cannot divide by zero\n"
          ]
        }
      ]
    },
    {
      "cell_type": "markdown",
      "source": [
        "**Inheritance**"
      ],
      "metadata": {
        "id": "jBY1Xtr6MU2m"
      }
    },
    {
      "cell_type": "code",
      "source": [
        "# Parent class\n",
        "class Vehicle:\n",
        "    def __init__(self, make, model, year):\n",
        "        self.make = make\n",
        "        self.model = model\n",
        "        self.year = year\n",
        "\n",
        "    def display_info(self):\n",
        "        return f\"{self.year} {self.make} {self.model}\"\n",
        "\n",
        "# Child class inheriting from Vehicle\n",
        "class Car(Vehicle):\n",
        "    def __init__(self, make, model, year, num_doors):\n",
        "        super().__init__(make, model, year)\n",
        "        self.num_doors = num_doors\n",
        "\n",
        "    def display_info(self):\n",
        "        return f\"{super().display_info()}, {self.num_doors} doors\"\n",
        "\n",
        "# Another child class inheriting from Vehicle\n",
        "class Motorcycle(Vehicle):\n",
        "    def __init__(self, make, model, year, engine_size):\n",
        "        super().__init__(make, model, year)\n",
        "        self.engine_size = engine_size\n",
        "\n",
        "    def display_info(self):\n",
        "        return f\"{super().display_info()}, {self.engine_size}cc engine\"\n",
        "\n",
        "car = Car(\"Toyota\", \"Camry\", 2022, 4)\n",
        "motorcycle = Motorcycle(\"Harley-Davidson\", \"Sportster\", 2023, 1200)\n",
        "\n",
        "print(car.display_info())\n",
        "print(motorcycle.display_info())"
      ],
      "metadata": {
        "id": "NmsNQ4ycM_bG",
        "colab": {
          "base_uri": "https://localhost:8080/"
        },
        "outputId": "4b78b04d-b33a-4fd4-bedc-4cc32015772c"
      },
      "execution_count": 3,
      "outputs": [
        {
          "output_type": "stream",
          "name": "stdout",
          "text": [
            "2022 Toyota Camry, 4 doors\n",
            "2023 Harley-Davidson Sportster, 1200cc engine\n"
          ]
        }
      ]
    },
    {
      "cell_type": "code",
      "source": [
        "class Shape:\n",
        "    def __init__(self, color):\n",
        "        self.color = color\n",
        "\n",
        "    def display_color(self):\n",
        "        return f\"The shape is {self.color}.\"\n",
        "\n",
        "\n",
        "class Circle(Shape):\n",
        "    def __init__(self, color, radius):\n",
        "        super().__init__(color)\n",
        "        self.radius = radius\n",
        "\n",
        "    def area(self):\n",
        "        return 3.14 * self.radius ** 2\n",
        "\n",
        "    def display_info(self):\n",
        "        return f\"This circle has a radius of {self.radius} units.\"\n",
        "\n",
        "\n",
        "class Rectangle(Shape):\n",
        "    def __init__(self, color, length, width):\n",
        "        super().__init__(color)\n",
        "        self.length = length\n",
        "        self.width = width\n",
        "\n",
        "    def area(self):\n",
        "        return self.length * self.width\n",
        "\n",
        "    def display_info(self):\n",
        "        return f\"This rectangle has length {self.length} units and width {self.width} units.\"\n",
        "\n",
        "circle = Circle(\"red\", 5)\n",
        "rectangle = Rectangle(\"blue\", 4, 6)\n",
        "\n",
        "print(circle.display_color())\n",
        "print(circle.display_info())\n",
        "print(\"Area of circle:\", circle.area())\n",
        "\n",
        "print(rectangle.display_color())\n",
        "print(rectangle.display_info())\n",
        "print(\"Area of rectangle:\", rectangle.area())"
      ],
      "metadata": {
        "id": "0loImI3pNSny",
        "colab": {
          "base_uri": "https://localhost:8080/"
        },
        "outputId": "c61df7ab-8599-4358-d719-33057ccfaee7"
      },
      "execution_count": 4,
      "outputs": [
        {
          "output_type": "stream",
          "name": "stdout",
          "text": [
            "The shape is red.\n",
            "This circle has a radius of 5 units.\n",
            "Area of circle: 78.5\n",
            "The shape is blue.\n",
            "This rectangle has length 4 units and width 6 units.\n",
            "Area of rectangle: 24\n"
          ]
        }
      ]
    },
    {
      "cell_type": "markdown",
      "source": [
        "**Polymorphism**"
      ],
      "metadata": {
        "id": "y5eQbMTzVBX_"
      }
    },
    {
      "cell_type": "code",
      "source": [
        "class Vehicle:\n",
        "    def move(self):\n",
        "        pass\n",
        "\n",
        "class Car(Vehicle):\n",
        "    def move(self):\n",
        "        return \"Car is driving\"\n",
        "\n",
        "class Bicycle(Vehicle):\n",
        "    def move(self):\n",
        "        return \"Bicycle is cycling\"\n",
        "\n",
        "class Airplane(Vehicle):\n",
        "    def move(self):\n",
        "        return \"Airplane is flying\"\n",
        "\n",
        "\n",
        "vehicles = [Car(), Bicycle(), Airplane()]\n",
        "\n",
        "for vehicle in vehicles:\n",
        "    print(vehicle.move())"
      ],
      "metadata": {
        "id": "nZkl08rmVrRb",
        "colab": {
          "base_uri": "https://localhost:8080/"
        },
        "outputId": "3b7c3ec1-ef63-4fb6-b71a-be8abb9666b5"
      },
      "execution_count": 5,
      "outputs": [
        {
          "output_type": "stream",
          "name": "stdout",
          "text": [
            "Car is driving\n",
            "Bicycle is cycling\n",
            "Airplane is flying\n"
          ]
        }
      ]
    },
    {
      "cell_type": "code",
      "source": [
        "import math\n",
        "\n",
        "class Shape:\n",
        "    def area(self):\n",
        "        pass\n",
        "\n",
        "class Rectangle(Shape):\n",
        "    def __init__(self, length, width):\n",
        "        self.length = length\n",
        "        self.width = width\n",
        "\n",
        "    def area(self):\n",
        "        return self.length * self.width\n",
        "\n",
        "class Circle(Shape):\n",
        "    def __init__(self, radius):\n",
        "        self.radius = radius\n",
        "\n",
        "    def area(self):\n",
        "        return math.pi * self.radius ** 2\n",
        "\n",
        "def calculate_area(shape):\n",
        "    return shape.area()\n",
        "\n",
        "def main():\n",
        "    rectangle = Rectangle(5, 4)\n",
        "    circle = Circle(3)\n",
        "\n",
        "    print(\"Area of rectangle:\", calculate_area(rectangle))\n",
        "    print(\"Area of circle:\", calculate_area(circle))\n",
        "\n",
        "if __name__ == \"__main__\":\n",
        "    main()"
      ],
      "metadata": {
        "id": "svcn9VseVDzU",
        "colab": {
          "base_uri": "https://localhost:8080/"
        },
        "outputId": "34aa89de-becc-439a-849b-e615dd92ff98"
      },
      "execution_count": 6,
      "outputs": [
        {
          "output_type": "stream",
          "name": "stdout",
          "text": [
            "Area of rectangle: 20\n",
            "Area of circle: 28.274333882308138\n"
          ]
        }
      ]
    },
    {
      "cell_type": "markdown",
      "source": [
        "**Encapsulation**"
      ],
      "metadata": {
        "id": "vb4m0pTgV7ww"
      }
    },
    {
      "cell_type": "code",
      "source": [
        "class Person:\n",
        "    def __init__(self, name, age):\n",
        "        self._name = name\n",
        "        self._age = age\n",
        "\n",
        "    def get_name(self):\n",
        "        return self._name\n",
        "\n",
        "    def set_name(self, name):\n",
        "        self._name = name\n",
        "\n",
        "    def get_age(self):\n",
        "        return self._age\n",
        "\n",
        "    def set_age(self, age):\n",
        "        if age >= 0:\n",
        "            self._age = age\n",
        "        else:\n",
        "            print(\"Invalid age. Age must be non-negative.\")\n",
        "\n",
        "\n",
        "person1 = Person(\"Alice\", 30)\n",
        "\n",
        "print(\"Name:\", person1.get_name())\n",
        "print(\"Age:\", person1.get_age())\n",
        "\n",
        "person1.set_name(\"Bob\")\n",
        "person1.set_age(25)\n",
        "\n",
        "print(\"Modified Name:\", person1.get_name())\n",
        "print(\"Modified Age:\", person1.get_age())"
      ],
      "metadata": {
        "id": "yzDrB9NMWs81",
        "colab": {
          "base_uri": "https://localhost:8080/"
        },
        "outputId": "e5eec536-8e9a-4977-da2f-7f50623b6550"
      },
      "execution_count": 7,
      "outputs": [
        {
          "output_type": "stream",
          "name": "stdout",
          "text": [
            "Name: Alice\n",
            "Age: 30\n",
            "Modified Name: Bob\n",
            "Modified Age: 25\n"
          ]
        }
      ]
    },
    {
      "cell_type": "markdown",
      "source": [
        "**Abstraction**"
      ],
      "metadata": {
        "id": "r_67sMxjYJ_Q"
      }
    },
    {
      "cell_type": "code",
      "source": [
        "from abc import ABC, abstractmethod\n",
        "\n",
        "class Shape(ABC):\n",
        "    @abstractmethod\n",
        "    def area(self):\n",
        "        pass\n",
        "\n",
        "    @abstractmethod\n",
        "    def perimeter(self):\n",
        "        pass\n",
        "\n",
        "class Rectangle(Shape):\n",
        "    def __init__(self, length, width):\n",
        "        self.length = length\n",
        "        self.width = width\n",
        "\n",
        "    def area(self):\n",
        "        return self.length * self.width\n",
        "\n",
        "    def perimeter(self):\n",
        "        return 2 * (self.length + self.width)\n",
        "\n",
        "class Circle(Shape):\n",
        "    def __init__(self, radius):\n",
        "        self.radius = radius\n",
        "\n",
        "    def area(self):\n",
        "        return 3.14 * self.radius * self.radius\n",
        "\n",
        "    def perimeter(self):\n",
        "        return 2 * 3.14 * self.radius\n",
        "\n",
        "rectangle = Rectangle(5, 4)\n",
        "print(\"Area of Rectangle:\", rectangle.area())\n",
        "print(\"Perimeter of Rectangle:\", rectangle.perimeter())\n",
        "\n",
        "circle = Circle(7)\n",
        "print(\"Area of Circle:\", circle.area())\n",
        "print(\"Circumference of Circle:\", circle.perimeter())"
      ],
      "metadata": {
        "id": "fAJACYQAYMCd",
        "colab": {
          "base_uri": "https://localhost:8080/"
        },
        "outputId": "50503928-7f01-49c1-98e1-3713a756b0db"
      },
      "execution_count": 8,
      "outputs": [
        {
          "output_type": "stream",
          "name": "stdout",
          "text": [
            "Area of Rectangle: 20\n",
            "Perimeter of Rectangle: 18\n",
            "Area of Circle: 153.86\n",
            "Circumference of Circle: 43.96\n"
          ]
        }
      ]
    },
    {
      "cell_type": "markdown",
      "source": [
        "**Method Overriding**"
      ],
      "metadata": {
        "id": "N6RC3CNrZPsx"
      }
    },
    {
      "cell_type": "code",
      "source": [
        "class Animal:\n",
        "    def make_sound(self):\n",
        "        print(\"Some generic sound\")\n",
        "\n",
        "class Dog(Animal):\n",
        "    def make_sound(self):\n",
        "        print(\"Woof!\")\n",
        "\n",
        "class Cat(Animal):\n",
        "    def make_sound(self):\n",
        "        print(\"Meow!\")\n",
        "\n",
        "class Cow(Animal):\n",
        "    # This class does not override make_sound method\n",
        "    pass\n",
        "\n",
        "animal = Animal()\n",
        "dog = Dog()\n",
        "cat = Cat()\n",
        "cow = Cow()\n",
        "\n",
        "animal.make_sound()\n",
        "dog.make_sound()\n",
        "cat.make_sound()\n",
        "cow.make_sound()"
      ],
      "metadata": {
        "id": "P2b_sj9tZWeF",
        "colab": {
          "base_uri": "https://localhost:8080/"
        },
        "outputId": "ea7761b6-b674-4ae0-f6b0-de8b63b24f9b"
      },
      "execution_count": 9,
      "outputs": [
        {
          "output_type": "stream",
          "name": "stdout",
          "text": [
            "Some generic sound\n",
            "Woof!\n",
            "Meow!\n",
            "Some generic sound\n"
          ]
        }
      ]
    },
    {
      "cell_type": "markdown",
      "source": [
        "**Class and Instance Variables**"
      ],
      "metadata": {
        "id": "_ShDnA4CdbZx"
      }
    },
    {
      "cell_type": "code",
      "source": [
        "class Student:\n",
        "    # Class variable\n",
        "    school_name = \"XYZ High School\"\n",
        "\n",
        "    def __init__(self, name, grade):\n",
        "        # Instance variables\n",
        "        self.name = name\n",
        "        self.grade = grade\n",
        "        self.attendance = 0\n",
        "\n",
        "    def attend_school(self):\n",
        "        self.attendance += 1\n",
        "        print(f\"{self.name} attended school today.\")\n",
        "\n",
        "    def display_info(self):\n",
        "        print(f\"Name: {self.name}, Grade: {self.grade}\")\n",
        "\n",
        "student1 = Student(\"Alice\", 10)\n",
        "student2 = Student(\"Bob\", 11)\n",
        "\n",
        "student1.display_info()\n",
        "student2.display_info()\n",
        "\n",
        "# Accessing class variable\n",
        "print(f\"School Name for Student 1: {student1.school_name}\")\n",
        "print(f\"School Name for Student 2: {student2.school_name}\")\n",
        "\n",
        "# Modifying class variable\n",
        "Student.school_name = \"ABC High School\"\n",
        "print(f\"School Name for Student 1 after modification: {student1.school_name}\")\n",
        "print(f\"School Name for Student 2 after modification: {student2.school_name}\")\n",
        "\n",
        "# Modifying instance variable\n",
        "student1.attend_school()\n",
        "student1.attend_school()\n",
        "student2.attend_school()\n",
        "print(f\"Attendance for {student1.name}: {student1.attendance}\")\n",
        "print(f\"Attendance for {student2.name}: {student2.attendance}\")"
      ],
      "metadata": {
        "id": "He0HfWsQdcQ_",
        "colab": {
          "base_uri": "https://localhost:8080/"
        },
        "outputId": "7450f2ca-94fd-4e06-b020-7b42637e0672"
      },
      "execution_count": 10,
      "outputs": [
        {
          "output_type": "stream",
          "name": "stdout",
          "text": [
            "Name: Alice, Grade: 10\n",
            "Name: Bob, Grade: 11\n",
            "School Name for Student 1: XYZ High School\n",
            "School Name for Student 2: XYZ High School\n",
            "School Name for Student 1 after modification: ABC High School\n",
            "School Name for Student 2 after modification: ABC High School\n",
            "Alice attended school today.\n",
            "Alice attended school today.\n",
            "Bob attended school today.\n",
            "Attendance for Alice: 2\n",
            "Attendance for Bob: 1\n"
          ]
        }
      ]
    },
    {
      "cell_type": "markdown",
      "source": [
        "**Static Method**"
      ],
      "metadata": {
        "id": "6HweuCtieD6X"
      }
    },
    {
      "cell_type": "code",
      "source": [
        "class Calculator:\n",
        "    def __init__(self, x, y):\n",
        "        self.x = x\n",
        "        self.y = y\n",
        "\n",
        "    def add(self):\n",
        "        return self.x + self.y\n",
        "\n",
        "    def subtract(self):\n",
        "        return self.x - self.y\n",
        "\n",
        "    @staticmethod\n",
        "    def multiply(x, y):\n",
        "        return x * y\n",
        "\n",
        "    @staticmethod\n",
        "    def divide(x, y):\n",
        "        if y == 0:\n",
        "            return \"Cannot divide by zero!\"\n",
        "        else:\n",
        "            return x / y\n",
        "\n",
        "calc_instance = Calculator(10, 5)\n",
        "\n",
        "# Call non-static methods on the instance\n",
        "print(\"Addition Result:\", calc_instance.add())\n",
        "print(\"Subtraction Result:\", calc_instance.subtract())\n",
        "\n",
        "# Call static methods directly on the class\n",
        "print(\"Multiplication Result:\", Calculator.multiply(4, 6))\n",
        "print(\"Division Result:\", Calculator.divide(10, 2))"
      ],
      "metadata": {
        "id": "xF_C1OqxfltA",
        "colab": {
          "base_uri": "https://localhost:8080/"
        },
        "outputId": "983b8262-8bcf-400e-a6e6-bacff0acd963"
      },
      "execution_count": 11,
      "outputs": [
        {
          "output_type": "stream",
          "name": "stdout",
          "text": [
            "Addition Result: 15\n",
            "Subtraction Result: 5\n",
            "Multiplication Result: 24\n",
            "Division Result: 5.0\n"
          ]
        }
      ]
    }
  ]
}